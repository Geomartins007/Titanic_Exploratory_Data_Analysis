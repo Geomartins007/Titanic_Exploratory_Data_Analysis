{
 "cells": [
  {
   "cell_type": "markdown",
   "id": "00448ebd",
   "metadata": {},
   "source": [
    "# Clone Exploratory Data Analysis with Titanic dataset\n"
   ]
  },
  {
   "cell_type": "markdown",
   "id": "451d3c82",
   "metadata": {},
   "source": [
    "### Explore the survival info contained in the dataset"
   ]
  },
  {
   "cell_type": "code",
   "execution_count": 328,
   "id": "150c6a55",
   "metadata": {},
   "outputs": [],
   "source": [
    "import numpy as np\n",
    "import pandas as pd\n",
    "import matplotlib.pyplot as plt\n",
    "import seaborn as sns"
   ]
  },
  {
   "cell_type": "code",
   "execution_count": 329,
   "id": "be3ae6be",
   "metadata": {},
   "outputs": [],
   "source": [
    "plt.style.use('fivethirtyeight')\n",
    "\n",
    "import warnings\n",
    "warnings.filterwarnings('ignore')\n",
    "\n",
    "%matplotlib inline\n",
    "\n",
    "plt.show()"
   ]
  },
  {
   "cell_type": "code",
   "execution_count": 330,
   "id": "3038722d",
   "metadata": {},
   "outputs": [],
   "source": [
    "train_data=pd.read_csv('train.csv')\n",
    "\n",
    "test_data=pd.read_csv('test.csv')"
   ]
  },
  {
   "cell_type": "code",
   "execution_count": 331,
   "id": "1a3645ed",
   "metadata": {},
   "outputs": [
    {
     "data": {
      "text/plain": [
       "(891, 12)"
      ]
     },
     "execution_count": 331,
     "metadata": {},
     "output_type": "execute_result"
    }
   ],
   "source": [
    "train_data.shape"
   ]
  },
  {
   "cell_type": "code",
   "execution_count": 332,
   "id": "bfd6a68f",
   "metadata": {},
   "outputs": [
    {
     "data": {
      "text/html": [
       "<div>\n",
       "<style scoped>\n",
       "    .dataframe tbody tr th:only-of-type {\n",
       "        vertical-align: middle;\n",
       "    }\n",
       "\n",
       "    .dataframe tbody tr th {\n",
       "        vertical-align: top;\n",
       "    }\n",
       "\n",
       "    .dataframe thead th {\n",
       "        text-align: right;\n",
       "    }\n",
       "</style>\n",
       "<table border=\"1\" class=\"dataframe\">\n",
       "  <thead>\n",
       "    <tr style=\"text-align: right;\">\n",
       "      <th></th>\n",
       "      <th>PassengerId</th>\n",
       "      <th>Survived</th>\n",
       "      <th>Pclass</th>\n",
       "      <th>Name</th>\n",
       "      <th>Sex</th>\n",
       "      <th>Age</th>\n",
       "      <th>SibSp</th>\n",
       "      <th>Parch</th>\n",
       "      <th>Ticket</th>\n",
       "      <th>Fare</th>\n",
       "      <th>Cabin</th>\n",
       "      <th>Embarked</th>\n",
       "    </tr>\n",
       "  </thead>\n",
       "  <tbody>\n",
       "    <tr>\n",
       "      <th>0</th>\n",
       "      <td>1</td>\n",
       "      <td>0</td>\n",
       "      <td>3</td>\n",
       "      <td>Braund, Mr. Owen Harris</td>\n",
       "      <td>male</td>\n",
       "      <td>22.0</td>\n",
       "      <td>1</td>\n",
       "      <td>0</td>\n",
       "      <td>A/5 21171</td>\n",
       "      <td>7.2500</td>\n",
       "      <td>NaN</td>\n",
       "      <td>S</td>\n",
       "    </tr>\n",
       "    <tr>\n",
       "      <th>1</th>\n",
       "      <td>2</td>\n",
       "      <td>1</td>\n",
       "      <td>1</td>\n",
       "      <td>Cumings, Mrs. John Bradley (Florence Briggs Th...</td>\n",
       "      <td>female</td>\n",
       "      <td>38.0</td>\n",
       "      <td>1</td>\n",
       "      <td>0</td>\n",
       "      <td>PC 17599</td>\n",
       "      <td>71.2833</td>\n",
       "      <td>C85</td>\n",
       "      <td>C</td>\n",
       "    </tr>\n",
       "    <tr>\n",
       "      <th>2</th>\n",
       "      <td>3</td>\n",
       "      <td>1</td>\n",
       "      <td>3</td>\n",
       "      <td>Heikkinen, Miss. Laina</td>\n",
       "      <td>female</td>\n",
       "      <td>26.0</td>\n",
       "      <td>0</td>\n",
       "      <td>0</td>\n",
       "      <td>STON/O2. 3101282</td>\n",
       "      <td>7.9250</td>\n",
       "      <td>NaN</td>\n",
       "      <td>S</td>\n",
       "    </tr>\n",
       "    <tr>\n",
       "      <th>3</th>\n",
       "      <td>4</td>\n",
       "      <td>1</td>\n",
       "      <td>1</td>\n",
       "      <td>Futrelle, Mrs. Jacques Heath (Lily May Peel)</td>\n",
       "      <td>female</td>\n",
       "      <td>35.0</td>\n",
       "      <td>1</td>\n",
       "      <td>0</td>\n",
       "      <td>113803</td>\n",
       "      <td>53.1000</td>\n",
       "      <td>C123</td>\n",
       "      <td>S</td>\n",
       "    </tr>\n",
       "    <tr>\n",
       "      <th>4</th>\n",
       "      <td>5</td>\n",
       "      <td>0</td>\n",
       "      <td>3</td>\n",
       "      <td>Allen, Mr. William Henry</td>\n",
       "      <td>male</td>\n",
       "      <td>35.0</td>\n",
       "      <td>0</td>\n",
       "      <td>0</td>\n",
       "      <td>373450</td>\n",
       "      <td>8.0500</td>\n",
       "      <td>NaN</td>\n",
       "      <td>S</td>\n",
       "    </tr>\n",
       "  </tbody>\n",
       "</table>\n",
       "</div>"
      ],
      "text/plain": [
       "   PassengerId  Survived  Pclass  \\\n",
       "0            1         0       3   \n",
       "1            2         1       1   \n",
       "2            3         1       3   \n",
       "3            4         1       1   \n",
       "4            5         0       3   \n",
       "\n",
       "                                                Name     Sex   Age  SibSp  \\\n",
       "0                            Braund, Mr. Owen Harris    male  22.0      1   \n",
       "1  Cumings, Mrs. John Bradley (Florence Briggs Th...  female  38.0      1   \n",
       "2                             Heikkinen, Miss. Laina  female  26.0      0   \n",
       "3       Futrelle, Mrs. Jacques Heath (Lily May Peel)  female  35.0      1   \n",
       "4                           Allen, Mr. William Henry    male  35.0      0   \n",
       "\n",
       "   Parch            Ticket     Fare Cabin Embarked  \n",
       "0      0         A/5 21171   7.2500   NaN        S  \n",
       "1      0          PC 17599  71.2833   C85        C  \n",
       "2      0  STON/O2. 3101282   7.9250   NaN        S  \n",
       "3      0            113803  53.1000  C123        S  \n",
       "4      0            373450   8.0500   NaN        S  "
      ]
     },
     "execution_count": 332,
     "metadata": {},
     "output_type": "execute_result"
    }
   ],
   "source": [
    "train_data.head(5)"
   ]
  },
  {
   "cell_type": "code",
   "execution_count": 333,
   "id": "107a723d",
   "metadata": {},
   "outputs": [],
   "source": [
    "#test_data.shape"
   ]
  },
  {
   "cell_type": "code",
   "execution_count": 334,
   "id": "b9611bff",
   "metadata": {},
   "outputs": [
    {
     "data": {
      "text/plain": [
       "(891, 12)"
      ]
     },
     "execution_count": 334,
     "metadata": {},
     "output_type": "execute_result"
    }
   ],
   "source": [
    "train_data.shape"
   ]
  },
  {
   "cell_type": "code",
   "execution_count": 335,
   "id": "4e7d109d",
   "metadata": {},
   "outputs": [
    {
     "name": "stdout",
     "output_type": "stream",
     "text": [
      "<class 'pandas.core.frame.DataFrame'>\n",
      "RangeIndex: 891 entries, 0 to 890\n",
      "Data columns (total 12 columns):\n",
      " #   Column       Non-Null Count  Dtype  \n",
      "---  ------       --------------  -----  \n",
      " 0   PassengerId  891 non-null    int64  \n",
      " 1   Survived     891 non-null    int64  \n",
      " 2   Pclass       891 non-null    int64  \n",
      " 3   Name         891 non-null    object \n",
      " 4   Sex          891 non-null    object \n",
      " 5   Age          714 non-null    float64\n",
      " 6   SibSp        891 non-null    int64  \n",
      " 7   Parch        891 non-null    int64  \n",
      " 8   Ticket       891 non-null    object \n",
      " 9   Fare         891 non-null    float64\n",
      " 10  Cabin        204 non-null    object \n",
      " 11  Embarked     889 non-null    object \n",
      "dtypes: float64(2), int64(5), object(5)\n",
      "memory usage: 83.7+ KB\n"
     ]
    }
   ],
   "source": [
    "train_data.info()"
   ]
  },
  {
   "cell_type": "code",
   "execution_count": 336,
   "id": "fc178206",
   "metadata": {},
   "outputs": [
    {
     "data": {
      "text/plain": [
       "PassengerId      0\n",
       "Survived         0\n",
       "Pclass           0\n",
       "Name             0\n",
       "Sex              0\n",
       "Age            177\n",
       "SibSp            0\n",
       "Parch            0\n",
       "Ticket           0\n",
       "Fare             0\n",
       "Cabin          687\n",
       "Embarked         2\n",
       "dtype: int64"
      ]
     },
     "execution_count": 336,
     "metadata": {},
     "output_type": "execute_result"
    }
   ],
   "source": [
    "train_data.isnull().sum()"
   ]
  },
  {
   "cell_type": "markdown",
   "id": "879e6e9e",
   "metadata": {},
   "source": [
    "As we can see, the Age and Cabin features have null values. However, we can't drop these columns because that might affect the result of the analysis.\n",
    "\n",
    "For because the Age feature is a float dtype, we are going to fillna with mode of the column."
   ]
  },
  {
   "cell_type": "code",
   "execution_count": 337,
   "id": "80f94e42",
   "metadata": {},
   "outputs": [],
   "source": [
    "# Fillna with mode of the dataset\n",
    "\n",
    "train_data['Age']= train_data['Age'].fillna(train_data['Age'].mode()[0])"
   ]
  },
  {
   "cell_type": "code",
   "execution_count": 338,
   "id": "3ad851af",
   "metadata": {},
   "outputs": [
    {
     "data": {
      "text/plain": [
       "PassengerId      0\n",
       "Survived         0\n",
       "Pclass           0\n",
       "Name             0\n",
       "Sex              0\n",
       "Age              0\n",
       "SibSp            0\n",
       "Parch            0\n",
       "Ticket           0\n",
       "Fare             0\n",
       "Cabin          687\n",
       "Embarked         2\n",
       "dtype: int64"
      ]
     },
     "execution_count": 338,
     "metadata": {},
     "output_type": "execute_result"
    }
   ],
   "source": [
    "train_data.isnull().sum()"
   ]
  },
  {
   "cell_type": "markdown",
   "id": "b60230f0",
   "metadata": {},
   "source": [
    "So, because the Cabin feature isn't an int dtype, we can't fill it with anything.\n",
    "\n",
    "Chances are that the cabin feature may not correlate perfectly with survived feature (which is the main info in the dataset)"
   ]
  },
  {
   "cell_type": "code",
   "execution_count": 339,
   "id": "739687a6",
   "metadata": {},
   "outputs": [],
   "source": [
    "# Let's see how correlated the features are to the survived feature.\n",
    "\n",
    "# Using heatmap"
   ]
  },
  {
   "cell_type": "code",
   "execution_count": 340,
   "id": "c10488ce",
   "metadata": {},
   "outputs": [
    {
     "data": {
      "image/png": "[encoded data removed]",
      "text/plain": [
       "<Figure size 432x288 with 2 Axes>"
      ]
     },
     "metadata": {
      "needs_background": "light"
     },
     "output_type": "display_data"
    }
   ],
   "source": [
    "# Increase fig sizes\n",
    "\n",
    "# plt.rcParams['figure.figsize']= (8, 6)\n",
    "\n",
    "#plotting heatmap\n",
    "\n",
    "sns.heatmap(train_data.corr(), annot= True)\n",
    "\n",
    "plt.show()"
   ]
  },
  {
   "cell_type": "markdown",
   "id": "1fbcdb44",
   "metadata": {},
   "source": [
    "Now, we can clearly see how each of the features correlate. Positive correction between two features means that the both features have a direct relationship i.e as one of the feature is increasing, the other is also increasing. The reverse is the case for negative correlation.\n",
    "\n",
    "The heatmap here shows a positive correlation between the 'Survived' feature and 'Parch' and 'Fare' features. Also, the heatmap here shows a negative correlation between the 'Survived' feature and 'Pclass', 'SibSp', and 'Age' features.S"
   ]
  },
  {
   "cell_type": "code",
   "execution_count": 341,
   "id": "b8a2effd",
   "metadata": {},
   "outputs": [],
   "source": [
    "# Lets drop some features we won't be using.\n",
    "\n",
    "train_data= train_data.drop(columns= ['PassengerId', 'Ticket','Embarked', 'Cabin'])"
   ]
  },
  {
   "cell_type": "markdown",
   "id": "b04e966a",
   "metadata": {},
   "source": [
    "###### Let's do some important visualizations"
   ]
  },
  {
   "cell_type": "code",
   "execution_count": 342,
   "id": "a917cbb2",
   "metadata": {},
   "outputs": [
    {
     "data": {
      "text/html": [
       "<div>\n",
       "<style scoped>\n",
       "    .dataframe tbody tr th:only-of-type {\n",
       "        vertical-align: middle;\n",
       "    }\n",
       "\n",
       "    .dataframe tbody tr th {\n",
       "        vertical-align: top;\n",
       "    }\n",
       "\n",
       "    .dataframe thead th {\n",
       "        text-align: right;\n",
       "    }\n",
       "</style>\n",
       "<table border=\"1\" class=\"dataframe\">\n",
       "  <thead>\n",
       "    <tr style=\"text-align: right;\">\n",
       "      <th></th>\n",
       "      <th>Survived</th>\n",
       "      <th>Pclass</th>\n",
       "      <th>Name</th>\n",
       "      <th>Sex</th>\n",
       "      <th>Age</th>\n",
       "      <th>SibSp</th>\n",
       "      <th>Parch</th>\n",
       "      <th>Fare</th>\n",
       "    </tr>\n",
       "  </thead>\n",
       "  <tbody>\n",
       "    <tr>\n",
       "      <th>0</th>\n",
       "      <td>0</td>\n",
       "      <td>3</td>\n",
       "      <td>Braund, Mr. Owen Harris</td>\n",
       "      <td>male</td>\n",
       "      <td>22.0</td>\n",
       "      <td>1</td>\n",
       "      <td>0</td>\n",
       "      <td>7.2500</td>\n",
       "    </tr>\n",
       "    <tr>\n",
       "      <th>1</th>\n",
       "      <td>1</td>\n",
       "      <td>1</td>\n",
       "      <td>Cumings, Mrs. John Bradley (Florence Briggs Th...</td>\n",
       "      <td>female</td>\n",
       "      <td>38.0</td>\n",
       "      <td>1</td>\n",
       "      <td>0</td>\n",
       "      <td>71.2833</td>\n",
       "    </tr>\n",
       "  </tbody>\n",
       "</table>\n",
       "</div>"
      ],
      "text/plain": [
       "   Survived  Pclass                                               Name  \\\n",
       "0         0       3                            Braund, Mr. Owen Harris   \n",
       "1         1       1  Cumings, Mrs. John Bradley (Florence Briggs Th...   \n",
       "\n",
       "      Sex   Age  SibSp  Parch     Fare  \n",
       "0    male  22.0      1      0   7.2500  \n",
       "1  female  38.0      1      0  71.2833  "
      ]
     },
     "execution_count": 342,
     "metadata": {},
     "output_type": "execute_result"
    }
   ],
   "source": [
    "train_data.head(2)"
   ]
  },
  {
   "cell_type": "code",
   "execution_count": 343,
   "id": "4f488720",
   "metadata": {
    "scrolled": true
   },
   "outputs": [
    {
     "data": {
      "image/png": "[encoded data removed]",
      "text/plain": [
       "<Figure size 432x288 with 1 Axes>"
      ]
     },
     "metadata": {
      "needs_background": "light"
     },
     "output_type": "display_data"
    }
   ],
   "source": [
    "sns.countplot('Survived', \n",
    "              data= train_data)\n",
    "plt.show()"
   ]
  },
  {
   "cell_type": "code",
   "execution_count": 344,
   "id": "8b642d09",
   "metadata": {},
   "outputs": [],
   "source": [
    "survival_by_sex= train_data.groupby(['Survived'])['Sex'].size().reset_index()"
   ]
  },
  {
   "cell_type": "code",
   "execution_count": 345,
   "id": "2170e21c",
   "metadata": {},
   "outputs": [
    {
     "data": {
      "text/html": [
       "<div>\n",
       "<style scoped>\n",
       "    .dataframe tbody tr th:only-of-type {\n",
       "        vertical-align: middle;\n",
       "    }\n",
       "\n",
       "    .dataframe tbody tr th {\n",
       "        vertical-align: top;\n",
       "    }\n",
       "\n",
       "    .dataframe thead th {\n",
       "        text-align: right;\n",
       "    }\n",
       "</style>\n",
       "<table border=\"1\" class=\"dataframe\">\n",
       "  <thead>\n",
       "    <tr style=\"text-align: right;\">\n",
       "      <th></th>\n",
       "      <th>Survived</th>\n",
       "      <th>Sex</th>\n",
       "    </tr>\n",
       "  </thead>\n",
       "  <tbody>\n",
       "    <tr>\n",
       "      <th>0</th>\n",
       "      <td>0</td>\n",
       "      <td>549</td>\n",
       "    </tr>\n",
       "    <tr>\n",
       "      <th>1</th>\n",
       "      <td>1</td>\n",
       "      <td>342</td>\n",
       "    </tr>\n",
       "  </tbody>\n",
       "</table>\n",
       "</div>"
      ],
      "text/plain": [
       "   Survived  Sex\n",
       "0         0  549\n",
       "1         1  342"
      ]
     },
     "execution_count": 345,
     "metadata": {},
     "output_type": "execute_result"
    }
   ],
   "source": [
    "survival_by_sex"
   ]
  },
  {
   "cell_type": "code",
   "execution_count": 346,
   "id": "2af52704",
   "metadata": {},
   "outputs": [],
   "source": [
    "'''\n",
    "\n",
    "Let's make a pie chart to visualize the percentage of survival.\n",
    "\n",
    "Note:   0 = Death\n",
    "        1 = Alive\n",
    "'''\n",
    "\n",
    "x= survival_by_sex.Sex.value_counts().index\n",
    "\n",
    "y= survival_by_sex.Survived.value_counts().index"
   ]
  },
  {
   "cell_type": "code",
   "execution_count": 347,
   "id": "5eea1940",
   "metadata": {},
   "outputs": [
    {
     "data": {
      "image/png": "[encoded data removed]",
      "text/plain": [
       "<Figure size 432x288 with 1 Axes>"
      ]
     },
     "metadata": {},
     "output_type": "display_data"
    }
   ],
   "source": [
    "plt.pie(x=x, labels= y, data= train_data, autopct= '%1.2f%%')\n",
    "\n",
    "plt.show()\n",
    "\n"
   ]
  },
  {
   "cell_type": "code",
   "execution_count": 360,
   "id": "5526b1c8",
   "metadata": {},
   "outputs": [
    {
     "data": {
      "image/png": "[encoded data removed]",
      "text/plain": [
       "<Figure size 1080x648 with 1 Axes>"
      ]
     },
     "metadata": {
      "needs_background": "light"
     },
     "output_type": "display_data"
    },
    {
     "data": {
      "text/plain": [
       "<Figure size 1080x648 with 0 Axes>"
      ]
     },
     "metadata": {},
     "output_type": "display_data"
    }
   ],
   "source": [
    "# Let's visualize the survival by sex\n",
    "\n",
    "ax= sns.countplot('Survived', \n",
    "              hue= 'Sex',\n",
    "              data= train_data)\n",
    "\n",
    "# plt.title('Survival vs Sex')\n",
    "\n",
    "plt.show()\n",
    "\n",
    "plt.savefig(\"ax.png\")"
   ]
  },
  {
   "cell_type": "markdown",
   "id": "e12d5645",
   "metadata": {},
   "source": [
    "##### Key Observation:\n",
    "\n",
    "The barplot shows that the number of death cases are more than the survived cases in general.\n",
    "\n",
    "The pie plot then shows that 38.38% (342) and 61.62% (550) of the passsengers survived and died, respectively.\n",
    "\n",
    "Note:   0 = Death\n",
    "        1 = Alive"
   ]
  },
  {
   "cell_type": "markdown",
   "id": "ab87372b",
   "metadata": {},
   "source": [
    "#### Survival by Passenger Class"
   ]
  },
  {
   "cell_type": "code",
   "execution_count": 349,
   "id": "2f05a1fb",
   "metadata": {},
   "outputs": [
    {
     "data": {
      "image/png": "[encoded data removed]",
      "text/plain": [
       "<Figure size 432x288 with 1 Axes>"
      ]
     },
     "metadata": {
      "needs_background": "light"
     },
     "output_type": "display_data"
    }
   ],
   "source": [
    "sns.countplot('Pclass', hue= 'Sex', data= train_data)\n",
    "\n",
    "\n",
    "# plt.title('Pclass vs Survival')\n",
    "plt.show()"
   ]
  },
  {
   "cell_type": "markdown",
   "id": "b779ee05",
   "metadata": {},
   "source": [
    "This plot shows that regardless of class, the male are more than the female"
   ]
  },
  {
   "cell_type": "code",
   "execution_count": 350,
   "id": "bf2016e2",
   "metadata": {},
   "outputs": [
    {
     "data": {
      "image/png": "[encoded data removed]",
      "text/plain": [
       "<Figure size 432x288 with 1 Axes>"
      ]
     },
     "metadata": {
      "needs_background": "light"
     },
     "output_type": "display_data"
    }
   ],
   "source": [
    "sns.countplot('Pclass', hue= 'Survived', data= train_data)\n",
    "\n",
    "# plt.title('Pclass vs Survival')\n",
    "plt.show()"
   ]
  },
  {
   "cell_type": "markdown",
   "id": "f3165348",
   "metadata": {},
   "source": [
    "The plot shows that the 3rd class passengers suffered the most death. It also shows that priority was given to 1st class passengers during the rescue operations"
   ]
  },
  {
   "cell_type": "markdown",
   "id": "dc1f7717",
   "metadata": {},
   "source": [
    "#### Passengers' Age"
   ]
  },
  {
   "cell_type": "code",
   "execution_count": 351,
   "id": "52c74443",
   "metadata": {},
   "outputs": [
    {
     "name": "stdout",
     "output_type": "stream",
     "text": [
      "Max age: 80 \n",
      "Min age: 0\n"
     ]
    }
   ],
   "source": [
    "train_data['Age']= train_data['Age'].astype(int)\n",
    "\n",
    "\n",
    "max_age= train_data.Age.max()\n",
    "\n",
    "min_age= train_data.Age.round(1).min()\n",
    "\n",
    "print('Max age:', max_age, '\\nMin age:', min_age)"
   ]
  },
  {
   "cell_type": "code",
   "execution_count": 352,
   "id": "411b4b81",
   "metadata": {},
   "outputs": [],
   "source": [
    "plt.rcParams['figure.figsize']= (15, 9)\n"
   ]
  },
  {
   "cell_type": "code",
   "execution_count": 353,
   "id": "5cd720eb",
   "metadata": {},
   "outputs": [
    {
     "data": {
      "image/png": "[encoded data removed]",
      "text/plain": [
       "<Figure size 1080x648 with 1 Axes>"
      ]
     },
     "metadata": {
      "needs_background": "light"
     },
     "output_type": "display_data"
    }
   ],
   "source": [
    "sns.countplot('Age', hue= 'Survived', data= train_data)\n",
    "\n",
    "plt.show()"
   ]
  },
  {
   "cell_type": "markdown",
   "id": "30c1f0ad",
   "metadata": {},
   "source": [
    "Most death and survival was between the age range of 16yrs and 51yrs. The oldest rescued person was 80yrs old while the youngest survivor was less than a yeay old."
   ]
  },
  {
   "cell_type": "markdown",
   "id": "6f9b1f3c",
   "metadata": {},
   "source": [
    "#### Survivial by SibSP"
   ]
  },
  {
   "cell_type": "code",
   "execution_count": 354,
   "id": "91d369b8",
   "metadata": {},
   "outputs": [
    {
     "data": {
      "text/html": [
       "<div>\n",
       "<style scoped>\n",
       "    .dataframe tbody tr th:only-of-type {\n",
       "        vertical-align: middle;\n",
       "    }\n",
       "\n",
       "    .dataframe tbody tr th {\n",
       "        vertical-align: top;\n",
       "    }\n",
       "\n",
       "    .dataframe thead th {\n",
       "        text-align: right;\n",
       "    }\n",
       "</style>\n",
       "<table border=\"1\" class=\"dataframe\">\n",
       "  <thead>\n",
       "    <tr style=\"text-align: right;\">\n",
       "      <th></th>\n",
       "      <th>Survived</th>\n",
       "      <th>Pclass</th>\n",
       "      <th>Name</th>\n",
       "      <th>Sex</th>\n",
       "      <th>Age</th>\n",
       "      <th>SibSp</th>\n",
       "      <th>Parch</th>\n",
       "      <th>Fare</th>\n",
       "    </tr>\n",
       "  </thead>\n",
       "  <tbody>\n",
       "    <tr>\n",
       "      <th>0</th>\n",
       "      <td>0</td>\n",
       "      <td>3</td>\n",
       "      <td>Braund, Mr. Owen Harris</td>\n",
       "      <td>male</td>\n",
       "      <td>22</td>\n",
       "      <td>1</td>\n",
       "      <td>0</td>\n",
       "      <td>7.2500</td>\n",
       "    </tr>\n",
       "    <tr>\n",
       "      <th>1</th>\n",
       "      <td>1</td>\n",
       "      <td>1</td>\n",
       "      <td>Cumings, Mrs. John Bradley (Florence Briggs Th...</td>\n",
       "      <td>female</td>\n",
       "      <td>38</td>\n",
       "      <td>1</td>\n",
       "      <td>0</td>\n",
       "      <td>71.2833</td>\n",
       "    </tr>\n",
       "    <tr>\n",
       "      <th>2</th>\n",
       "      <td>1</td>\n",
       "      <td>3</td>\n",
       "      <td>Heikkinen, Miss. Laina</td>\n",
       "      <td>female</td>\n",
       "      <td>26</td>\n",
       "      <td>0</td>\n",
       "      <td>0</td>\n",
       "      <td>7.9250</td>\n",
       "    </tr>\n",
       "  </tbody>\n",
       "</table>\n",
       "</div>"
      ],
      "text/plain": [
       "   Survived  Pclass                                               Name  \\\n",
       "0         0       3                            Braund, Mr. Owen Harris   \n",
       "1         1       1  Cumings, Mrs. John Bradley (Florence Briggs Th...   \n",
       "2         1       3                             Heikkinen, Miss. Laina   \n",
       "\n",
       "      Sex  Age  SibSp  Parch     Fare  \n",
       "0    male   22      1      0   7.2500  \n",
       "1  female   38      1      0  71.2833  \n",
       "2  female   26      0      0   7.9250  "
      ]
     },
     "execution_count": 354,
     "metadata": {},
     "output_type": "execute_result"
    }
   ],
   "source": [
    "train_data.head(3)"
   ]
  },
  {
   "cell_type": "code",
   "execution_count": 355,
   "id": "67a5456a",
   "metadata": {},
   "outputs": [],
   "source": [
    "# train_data['SibSp'].value_counts().groupby('Survived')"
   ]
  },
  {
   "cell_type": "code",
   "execution_count": 356,
   "id": "c854801d",
   "metadata": {
    "scrolled": true
   },
   "outputs": [
    {
     "data": {
      "text/html": [
       "<div>\n",
       "<style scoped>\n",
       "    .dataframe tbody tr th:only-of-type {\n",
       "        vertical-align: middle;\n",
       "    }\n",
       "\n",
       "    .dataframe tbody tr th {\n",
       "        vertical-align: top;\n",
       "    }\n",
       "\n",
       "    .dataframe thead th {\n",
       "        text-align: right;\n",
       "    }\n",
       "</style>\n",
       "<table border=\"1\" class=\"dataframe\">\n",
       "  <thead>\n",
       "    <tr style=\"text-align: right;\">\n",
       "      <th></th>\n",
       "      <th>SibSp</th>\n",
       "      <th>Survived</th>\n",
       "      <th>Counts</th>\n",
       "    </tr>\n",
       "  </thead>\n",
       "  <tbody>\n",
       "    <tr>\n",
       "      <th>0</th>\n",
       "      <td>0</td>\n",
       "      <td>0</td>\n",
       "      <td>398</td>\n",
       "    </tr>\n",
       "    <tr>\n",
       "      <th>1</th>\n",
       "      <td>0</td>\n",
       "      <td>1</td>\n",
       "      <td>210</td>\n",
       "    </tr>\n",
       "    <tr>\n",
       "      <th>2</th>\n",
       "      <td>1</td>\n",
       "      <td>0</td>\n",
       "      <td>97</td>\n",
       "    </tr>\n",
       "    <tr>\n",
       "      <th>3</th>\n",
       "      <td>1</td>\n",
       "      <td>1</td>\n",
       "      <td>112</td>\n",
       "    </tr>\n",
       "    <tr>\n",
       "      <th>4</th>\n",
       "      <td>2</td>\n",
       "      <td>0</td>\n",
       "      <td>15</td>\n",
       "    </tr>\n",
       "    <tr>\n",
       "      <th>5</th>\n",
       "      <td>2</td>\n",
       "      <td>1</td>\n",
       "      <td>13</td>\n",
       "    </tr>\n",
       "    <tr>\n",
       "      <th>6</th>\n",
       "      <td>3</td>\n",
       "      <td>0</td>\n",
       "      <td>12</td>\n",
       "    </tr>\n",
       "    <tr>\n",
       "      <th>7</th>\n",
       "      <td>3</td>\n",
       "      <td>1</td>\n",
       "      <td>4</td>\n",
       "    </tr>\n",
       "    <tr>\n",
       "      <th>8</th>\n",
       "      <td>4</td>\n",
       "      <td>0</td>\n",
       "      <td>15</td>\n",
       "    </tr>\n",
       "    <tr>\n",
       "      <th>9</th>\n",
       "      <td>4</td>\n",
       "      <td>1</td>\n",
       "      <td>3</td>\n",
       "    </tr>\n",
       "    <tr>\n",
       "      <th>10</th>\n",
       "      <td>5</td>\n",
       "      <td>0</td>\n",
       "      <td>5</td>\n",
       "    </tr>\n",
       "    <tr>\n",
       "      <th>11</th>\n",
       "      <td>8</td>\n",
       "      <td>0</td>\n",
       "      <td>7</td>\n",
       "    </tr>\n",
       "  </tbody>\n",
       "</table>\n",
       "</div>"
      ],
      "text/plain": [
       "    SibSp  Survived  Counts\n",
       "0       0         0     398\n",
       "1       0         1     210\n",
       "2       1         0      97\n",
       "3       1         1     112\n",
       "4       2         0      15\n",
       "5       2         1      13\n",
       "6       3         0      12\n",
       "7       3         1       4\n",
       "8       4         0      15\n",
       "9       4         1       3\n",
       "10      5         0       5\n",
       "11      8         0       7"
      ]
     },
     "execution_count": 356,
     "metadata": {},
     "output_type": "execute_result"
    }
   ],
   "source": [
    "sib= train_data.groupby(['SibSp','Survived']).size().reset_index().rename(columns= {0:'Counts'})\n",
    "\n",
    "sib"
   ]
  },
  {
   "cell_type": "code",
   "execution_count": 357,
   "id": "a427c090",
   "metadata": {},
   "outputs": [
    {
     "data": {
      "image/png": "[encoded data removed]",
      "text/plain": [
       "<Figure size 1080x648 with 1 Axes>"
      ]
     },
     "metadata": {
      "needs_background": "light"
     },
     "output_type": "display_data"
    }
   ],
   "source": [
    "sns.barplot(x= 'SibSp', y= 'Counts', hue= 'Survived', data= sib)\n",
    "\n",
    "plt.show()"
   ]
  },
  {
   "cell_type": "code",
   "execution_count": 361,
   "id": "9f0c5865",
   "metadata": {},
   "outputs": [
    {
     "data": {
      "image/png": "[encoded data removed]",
      "text/plain": [
       "<Figure size 1080x648 with 2 Axes>"
      ]
     },
     "metadata": {
      "needs_background": "light"
     },
     "output_type": "display_data"
    },
    {
     "data": {
      "text/plain": [
       "<Figure size 1080x648 with 0 Axes>"
      ]
     },
     "metadata": {},
     "output_type": "display_data"
    }
   ],
   "source": [
    "ax1= sns.heatmap(train_data.corr(), annot= True)\n",
    "\n",
    "plt.show()\n",
    "\n",
    "plt.savefig(\"ax1.png\")"
   ]
  },
  {
   "cell_type": "markdown",
   "id": "260bceea",
   "metadata": {},
   "source": [
    "#####  Key Observation: \n",
    "\n",
    "The barchart shows that the passengers with no siblings, parents or pathners had the highest survival. \n",
    "\n",
    "The interesting here is that, as the number of  siblings, parents or pathners decreases, the number of survival increses. \n",
    "\n",
    "Therefore, there is an inverse relationship between the SibSp and Survived features.\n",
    "\n",
    "This is so evident by the heatmap that shows a negative correlation value of -0.035 between the SibSp and the Survived features."
   ]
  },
  {
   "cell_type": "code",
   "execution_count": 359,
   "id": "d623fce6",
   "metadata": {},
   "outputs": [
    {
     "data": {
      "text/html": [
       "<style type=\"text/css\">\n",
       "#T_d4b94_row0_col0, #T_d4b94_row0_col1, #T_d4b94_row0_col4, #T_d4b94_row0_col5, #T_d4b94_row0_col6, #T_d4b94_row0_col7, #T_d4b94_row1_col0, #T_d4b94_row1_col1, #T_d4b94_row1_col5, #T_d4b94_row1_col7, #T_d4b94_row2_col0, #T_d4b94_row2_col1, #T_d4b94_row2_col4, #T_d4b94_row2_col5, #T_d4b94_row2_col6, #T_d4b94_row2_col7 {\n",
       "  background-color: #ffff66;\n",
       "  color: #000000;\n",
       "}\n",
       "#T_d4b94_row1_col4, #T_d4b94_row1_col6 {\n",
       "  background-color: #008066;\n",
       "  color: #f1f1f1;\n",
       "}\n",
       "</style>\n",
       "<table id=\"T_d4b94\">\n",
       "  <thead>\n",
       "    <tr>\n",
       "      <th class=\"blank level0\" >&nbsp;</th>\n",
       "      <th id=\"T_d4b94_level0_col0\" class=\"col_heading level0 col0\" >Survived</th>\n",
       "      <th id=\"T_d4b94_level0_col1\" class=\"col_heading level0 col1\" >Pclass</th>\n",
       "      <th id=\"T_d4b94_level0_col2\" class=\"col_heading level0 col2\" >Name</th>\n",
       "      <th id=\"T_d4b94_level0_col3\" class=\"col_heading level0 col3\" >Sex</th>\n",
       "      <th id=\"T_d4b94_level0_col4\" class=\"col_heading level0 col4\" >Age</th>\n",
       "      <th id=\"T_d4b94_level0_col5\" class=\"col_heading level0 col5\" >SibSp</th>\n",
       "      <th id=\"T_d4b94_level0_col6\" class=\"col_heading level0 col6\" >Parch</th>\n",
       "      <th id=\"T_d4b94_level0_col7\" class=\"col_heading level0 col7\" >Fare</th>\n",
       "    </tr>\n",
       "  </thead>\n",
       "  <tbody>\n",
       "    <tr>\n",
       "      <th id=\"T_d4b94_level0_row0\" class=\"row_heading level0 row0\" >258</th>\n",
       "      <td id=\"T_d4b94_row0_col0\" class=\"data row0 col0\" >1</td>\n",
       "      <td id=\"T_d4b94_row0_col1\" class=\"data row0 col1\" >1</td>\n",
       "      <td id=\"T_d4b94_row0_col2\" class=\"data row0 col2\" >Ward, Miss. Anna</td>\n",
       "      <td id=\"T_d4b94_row0_col3\" class=\"data row0 col3\" >female</td>\n",
       "      <td id=\"T_d4b94_row0_col4\" class=\"data row0 col4\" >35</td>\n",
       "      <td id=\"T_d4b94_row0_col5\" class=\"data row0 col5\" >0</td>\n",
       "      <td id=\"T_d4b94_row0_col6\" class=\"data row0 col6\" >0</td>\n",
       "      <td id=\"T_d4b94_row0_col7\" class=\"data row0 col7\" >512.329200</td>\n",
       "    </tr>\n",
       "    <tr>\n",
       "      <th id=\"T_d4b94_level0_row1\" class=\"row_heading level0 row1\" >679</th>\n",
       "      <td id=\"T_d4b94_row1_col0\" class=\"data row1 col0\" >1</td>\n",
       "      <td id=\"T_d4b94_row1_col1\" class=\"data row1 col1\" >1</td>\n",
       "      <td id=\"T_d4b94_row1_col2\" class=\"data row1 col2\" >Cardeza, Mr. Thomas Drake Martinez</td>\n",
       "      <td id=\"T_d4b94_row1_col3\" class=\"data row1 col3\" >male</td>\n",
       "      <td id=\"T_d4b94_row1_col4\" class=\"data row1 col4\" >36</td>\n",
       "      <td id=\"T_d4b94_row1_col5\" class=\"data row1 col5\" >0</td>\n",
       "      <td id=\"T_d4b94_row1_col6\" class=\"data row1 col6\" >1</td>\n",
       "      <td id=\"T_d4b94_row1_col7\" class=\"data row1 col7\" >512.329200</td>\n",
       "    </tr>\n",
       "    <tr>\n",
       "      <th id=\"T_d4b94_level0_row2\" class=\"row_heading level0 row2\" >737</th>\n",
       "      <td id=\"T_d4b94_row2_col0\" class=\"data row2 col0\" >1</td>\n",
       "      <td id=\"T_d4b94_row2_col1\" class=\"data row2 col1\" >1</td>\n",
       "      <td id=\"T_d4b94_row2_col2\" class=\"data row2 col2\" >Lesurer, Mr. Gustave J</td>\n",
       "      <td id=\"T_d4b94_row2_col3\" class=\"data row2 col3\" >male</td>\n",
       "      <td id=\"T_d4b94_row2_col4\" class=\"data row2 col4\" >35</td>\n",
       "      <td id=\"T_d4b94_row2_col5\" class=\"data row2 col5\" >0</td>\n",
       "      <td id=\"T_d4b94_row2_col6\" class=\"data row2 col6\" >0</td>\n",
       "      <td id=\"T_d4b94_row2_col7\" class=\"data row2 col7\" >512.329200</td>\n",
       "    </tr>\n",
       "  </tbody>\n",
       "</table>\n"
      ],
      "text/plain": [
       "<pandas.io.formats.style.Styler at 0x1cdf36ebb50>"
      ]
     },
     "execution_count": 359,
     "metadata": {},
     "output_type": "execute_result"
    }
   ],
   "source": [
    "train_data[train_data['Fare']==512.3292].style.background_gradient(cmap='summer_r')\n"
   ]
  },
  {
   "cell_type": "markdown",
   "id": "ad13f827",
   "metadata": {},
   "source": [
    "Passengers with that paid the highest Fare are in the 1st class category."
   ]
  },
  {
   "cell_type": "code",
   "execution_count": null,
   "id": "41a33dbd",
   "metadata": {},
   "outputs": [],
   "source": [
    "Pclass = data.groupby(data['Pclass'])['Pclass'].count()\n",
    "sns.factorplot('Pclass', data=data, kind='count', aspect=1)\n",
    "plt.xlabel('class')\n",
    "plt.title('Classes')"
   ]
  },
  {
   "cell_type": "code",
   "execution_count": null,
   "id": "405787bd",
   "metadata": {},
   "outputs": [],
   "source": []
  }
 ],
 "metadata": {
  "kernelspec": {
   "display_name": "Python 3 (ipykernel)",
   "language": "python",
   "name": "python3"
  },
  "language_info": {
   "codemirror_mode": {
    "name": "ipython",
    "version": 3
   },
   "file_extension": ".py",
   "mimetype": "text/x-python",
   "name": "python",
   "nbconvert_exporter": "python",
   "pygments_lexer": "ipython3",
   "version": "3.9.12"
  }
 },
 "nbformat": 4,
 "nbformat_minor": 5
}
